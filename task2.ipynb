{
 "cells": [
  {
   "cell_type": "markdown",
   "metadata": {},
   "source": [
    "<h1>Task Description"
   ]
  },
  {
   "cell_type": "markdown",
   "metadata": {},
   "source": [
    "You have learned merge sort in data structures which sorts an array in nlogn time, it is a divide and conquer technique. We can enhance the performance of merge sort using the multithreading. First of all, you have to check the processor cores of your system, let’s suppose your system processor has 4 cores. Now you have to create 4 threads and divide the array among these threads and sort them using merge sort. You have to take size of array and array elements from user. For this question, you have to print number of cores of your system at the start of program. No need to implement merge sort from scratch you can use merge sort code from internet but provide the link of source in the code.\n",
    "\n",
    "<b>Important: No of threads will be equivalent to no of cores in your system. Number of cores will be verified at the time of demo.</b>"
   ]
  },
  {
   "cell_type": "markdown",
   "metadata": {},
   "source": [
    "<h1>Program"
   ]
  },
  {
   "cell_type": "markdown",
   "metadata": {},
   "source": [
    "We are using <b>Python</b> in a <b>Windows 11</b> environment. We will use <b>threading</b> library to implement the creation and running of processes."
   ]
  },
  {
   "cell_type": "markdown",
   "metadata": {},
   "source": [
    "Before anything, we import necessary libraries:"
   ]
  },
  {
   "cell_type": "code",
   "execution_count": 3,
   "metadata": {},
   "outputs": [],
   "source": [
    "import threading\n",
    "import os\n",
    "from multiprocessing import cpu_count"
   ]
  },
  {
   "cell_type": "markdown",
   "metadata": {},
   "source": [
    "We take the size of array and its inputs from the user:"
   ]
  },
  {
   "cell_type": "code",
   "execution_count": 6,
   "metadata": {},
   "outputs": [],
   "source": [
    "n = int(input(\"Enter the size of the array: \"))\n",
    "array = list(map(int, input(\"Enter the array elements separated by space: \").split()))\n",
    "if len(array) != n:\n",
    "    raise ValueError(\"Error: Number of elements does not match the size of the array.\")    "
   ]
  },
  {
   "cell_type": "markdown",
   "metadata": {},
   "source": [
    "First, we will print the number of cores of our Computer and accordingly make a result array:"
   ]
  },
  {
   "cell_type": "code",
   "execution_count": 9,
   "metadata": {},
   "outputs": [
    {
     "name": "stdout",
     "output_type": "stream",
     "text": [
      "Number of cores: 12\n"
     ]
    }
   ],
   "source": [
    "num_cores = os.cpu_count()\n",
    "segment_size = len(array) // num_cores\n",
    "threads = []\n",
    "result = [None] * num_cores \n",
    "print(\"Number of cores:\",num_cores)"
   ]
  },
  {
   "cell_type": "markdown",
   "metadata": {},
   "source": [
    "Here is the Merge Sort algorithm we are going to use. It is a modified form of the algorithm we learnt in 3rd semester, in C++, converted to Python."
   ]
  },
  {
   "cell_type": "code",
   "execution_count": 2,
   "metadata": {},
   "outputs": [],
   "source": [
    "def merge(left, right):\n",
    "    merged = []\n",
    "    i = j = 0\n",
    "    while i < len(left) and j < len(right):\n",
    "        if left[i] < right[j]:\n",
    "            merged.append(left[i])\n",
    "            i += 1\n",
    "        else:\n",
    "            merged.append(right[j])\n",
    "            j += 1\n",
    "    merged.extend(left[i:])\n",
    "    merged.extend(right[j:])\n",
    "    return merged\n",
    "\n",
    "def merge_sort(arr):\n",
    "    if len(arr) <= 1:\n",
    "        return arr\n",
    "    mid = len(arr) // 2\n",
    "    left = merge_sort(arr[:mid])\n",
    "    right = merge_sort(arr[mid:])\n",
    "    return merge(left, right)"
   ]
  },
  {
   "cell_type": "markdown",
   "metadata": {},
   "source": [
    "Now we will create a function for the thread activity, in this case, for each thread to get a part of the array (list) and then sort it. It will then return it to the main thread."
   ]
  },
  {
   "cell_type": "code",
   "execution_count": 10,
   "metadata": {},
   "outputs": [],
   "source": [
    "def thread_sort(arr, start, end, result, index):\n",
    "    result[index] = merge_sort(arr[start:end])\n"
   ]
  },
  {
   "cell_type": "markdown",
   "metadata": {},
   "source": [
    "We now create threads for each segment of the array equally divided among the cores, which they separately sort. At the end they all join together."
   ]
  },
  {
   "cell_type": "code",
   "execution_count": 12,
   "metadata": {},
   "outputs": [],
   "source": [
    "for i in range(num_cores):\n",
    "    start = i * segment_size\n",
    "    end = (i + 1) * segment_size if i != num_cores - 1 else len(array)\n",
    "    thread = threading.Thread(target=thread_sort, args=(array, start, end, result, i))\n",
    "    threads.append(thread)\n",
    "    thread.start()\n",
    "\n",
    "for thread in threads:\n",
    "    thread.join()"
   ]
  },
  {
   "cell_type": "markdown",
   "metadata": {},
   "source": [
    "Finally, we join all of the outputs of each thread, and call the sort function one last time."
   ]
  },
  {
   "cell_type": "code",
   "execution_count": 14,
   "metadata": {},
   "outputs": [],
   "source": [
    "sorted_array = result[0]\n",
    "for i in range(1, num_cores):\n",
    "    sorted_array = merge(sorted_array, result[i])\n",
    "\n"
   ]
  },
  {
   "cell_type": "markdown",
   "metadata": {},
   "source": [
    "At the end, we just print the sorted array:"
   ]
  },
  {
   "cell_type": "code",
   "execution_count": 16,
   "metadata": {},
   "outputs": [
    {
     "name": "stdout",
     "output_type": "stream",
     "text": [
      "Sorted Array: [2, 2, 3, 4]\n"
     ]
    }
   ],
   "source": [
    "print(\"Sorted Array:\", sorted_array)"
   ]
  }
 ],
 "metadata": {
  "kernelspec": {
   "display_name": "Python 3",
   "language": "python",
   "name": "python3"
  },
  "language_info": {
   "codemirror_mode": {
    "name": "ipython",
    "version": 3
   },
   "file_extension": ".py",
   "mimetype": "text/x-python",
   "name": "python",
   "nbconvert_exporter": "python",
   "pygments_lexer": "ipython3",
   "version": "3.12.8"
  }
 },
 "nbformat": 4,
 "nbformat_minor": 2
}
