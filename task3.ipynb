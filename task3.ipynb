{
 "cells": [
  {
   "cell_type": "markdown",
   "metadata": {},
   "source": [
    "<h1>Task Description"
   ]
  },
  {
   "cell_type": "markdown",
   "metadata": {},
   "source": [
    "Multiplication of matrix does take time surely. Time complexity of matrix multiplication is O (n^3) using normal matrix multiplication. But, is there any way to improve the performance of matrix\n",
    "multiplication using normal method. Multi-threading can be done to improve it. In multi-threading, instead of utilizing a single core of your processor, we utilize all or more core to solve the problem. You have to create different threads, each thread evaluating one element of resultant matrix."
   ]
  },
  {
   "cell_type": "markdown",
   "metadata": {},
   "source": [
    "![alt text](image.png)"
   ]
  },
  {
   "cell_type": "markdown",
   "metadata": {},
   "source": [
    "The value 8 is calculated using only one thread so; you have to calculate each value of resultant matrix using a thread. Take two matrices (A and B of size 3x3 both) from user your resultant matrix is of size 3x3 you have to create 9 threads for calculation of each value of resultant matrix."
   ]
  },
  {
   "cell_type": "markdown",
   "metadata": {},
   "source": [
    "<h1>Program"
   ]
  },
  {
   "cell_type": "markdown",
   "metadata": {},
   "source": [
    "First of all, we import the threading library in our environment:"
   ]
  },
  {
   "cell_type": "code",
   "execution_count": 2,
   "metadata": {},
   "outputs": [],
   "source": [
    "import threading"
   ]
  },
  {
   "cell_type": "markdown",
   "metadata": {},
   "source": [
    "We define the function to calculate each resultant value of the resultant matrix:"
   ]
  },
  {
   "cell_type": "code",
   "execution_count": 3,
   "metadata": {},
   "outputs": [],
   "source": [
    "def compute_element(result, A, B, i, j):\n",
    "    result[i][j] = sum(A[i][k] * B[k][j] for k in range(len(B)))"
   ]
  },
  {
   "cell_type": "markdown",
   "metadata": {},
   "source": [
    "We will now take input from user for 3x3 matrices (two in number) which we will then multiply:"
   ]
  },
  {
   "cell_type": "code",
   "execution_count": 5,
   "metadata": {},
   "outputs": [
    {
     "name": "stdout",
     "output_type": "stream",
     "text": [
      "Enter elements of 3x3 matrix A row-wise (space-separated):\n",
      "Enter elements of 3x3 matrix B row-wise (space-separated):\n"
     ]
    }
   ],
   "source": [
    "print(\"Enter elements of 3x3 matrix A row-wise (space-separated):\")\n",
    "A = [list(map(int, input().split())) for _ in range(3)]\n",
    "print(\"Enter elements of 3x3 matrix B row-wise (space-separated):\")\n",
    "B = [list(map(int, input().split())) for _ in range(3)]"
   ]
  },
  {
   "cell_type": "markdown",
   "metadata": {},
   "source": [
    "To verify, we check the input matrices:"
   ]
  },
  {
   "cell_type": "code",
   "execution_count": 12,
   "metadata": {},
   "outputs": [
    {
     "name": "stdout",
     "output_type": "stream",
     "text": [
      "[[2, 3, 4], [1, 2, 3], [3, 2, 1]]\n",
      "[[2, 3, 1], [4, 3, 2], [3, 2, 1]]\n"
     ]
    }
   ],
   "source": [
    "print (A)\n",
    "print (B)"
   ]
  },
  {
   "cell_type": "markdown",
   "metadata": {},
   "source": [
    "We will then create the resultant matrix to store the result:"
   ]
  },
  {
   "cell_type": "code",
   "execution_count": 8,
   "metadata": {},
   "outputs": [],
   "source": [
    "result = [[0] * 3 for _ in range(3)]"
   ]
  },
  {
   "cell_type": "markdown",
   "metadata": {},
   "source": [
    "We will now create threads for the multiplication with each one initiating the function for multiplication:"
   ]
  },
  {
   "cell_type": "code",
   "execution_count": 9,
   "metadata": {},
   "outputs": [],
   "source": [
    "threads = []\n",
    "\n",
    "for i in range(3):\n",
    "    for j in range(3):\n",
    "        thread = threading.Thread(target=compute_element, args=(result, A, B, i, j))\n",
    "        threads.append(thread)\n",
    "        thread.start()"
   ]
  },
  {
   "cell_type": "markdown",
   "metadata": {},
   "source": [
    "Finally we will join the output of each thread:"
   ]
  },
  {
   "cell_type": "code",
   "execution_count": 10,
   "metadata": {},
   "outputs": [],
   "source": [
    "for thread in threads:\n",
    "    thread.join()"
   ]
  },
  {
   "cell_type": "markdown",
   "metadata": {},
   "source": [
    "At the end, we print the output matrix:"
   ]
  },
  {
   "cell_type": "code",
   "execution_count": 11,
   "metadata": {},
   "outputs": [
    {
     "name": "stdout",
     "output_type": "stream",
     "text": [
      "Resultant Matrix:\n",
      "[28, 23, 12]\n",
      "[19, 15, 8]\n",
      "[17, 17, 8]\n"
     ]
    }
   ],
   "source": [
    "print(\"Resultant Matrix:\")\n",
    "for row in result:\n",
    "    print(row)"
   ]
  }
 ],
 "metadata": {
  "kernelspec": {
   "display_name": "Python 3",
   "language": "python",
   "name": "python3"
  },
  "language_info": {
   "codemirror_mode": {
    "name": "ipython",
    "version": 3
   },
   "file_extension": ".py",
   "mimetype": "text/x-python",
   "name": "python",
   "nbconvert_exporter": "python",
   "pygments_lexer": "ipython3",
   "version": "3.12.8"
  }
 },
 "nbformat": 4,
 "nbformat_minor": 2
}
