{
 "cells": [
  {
   "cell_type": "markdown",
   "metadata": {},
   "source": [
    "<h1>Task Description"
   ]
  },
  {
   "cell_type": "markdown",
   "metadata": {},
   "source": [
    "Write a program that takes a filename as input. The task is to count the number of alphabets in the mentioned file. You have to create 26 threads each thread will be responsible for the counting of a particular letter in the file. All threads will print their character count and also return the count, main thread will receive the count of each thread and print the sum which will be equivalent to number of characters in file. Character that thread has to count should be passed as input parameter to each thread."
   ]
  },
  {
   "cell_type": "markdown",
   "metadata": {},
   "source": [
    "<h1>Program"
   ]
  },
  {
   "cell_type": "markdown",
   "metadata": {},
   "source": [
    "We are using <b>Python</b> in a <b>Windows 11</b> environment. We will use <b>threading</b> library to implement the creation and running of processes."
   ]
  },
  {
   "cell_type": "markdown",
   "metadata": {},
   "source": [
    "We have already created a text file named <b>input.txt</b> in the parent directory, with a test string: <b>A quick brown fox jumps over the lazy dog.</b>"
   ]
  },
  {
   "cell_type": "markdown",
   "metadata": {},
   "source": [
    "1. First we will import the threading library:"
   ]
  },
  {
   "cell_type": "code",
   "execution_count": 1,
   "metadata": {},
   "outputs": [],
   "source": [
    "import threading"
   ]
  },
  {
   "cell_type": "markdown",
   "metadata": {},
   "source": [
    "2. We will then set the number of alphabets as 26:"
   ]
  },
  {
   "cell_type": "code",
   "execution_count": 2,
   "metadata": {},
   "outputs": [],
   "source": [
    "NumAlpha = 26"
   ]
  },
  {
   "cell_type": "markdown",
   "metadata": {},
   "source": [
    "3. We will now create a class with a thread function. We will first initialize the class with 3 variables, <b>character</b> (The alphabet it is going to process), <b>count</b> (The number of occurences of that alphabet) and <b>filename</b> (The name of file to be scoured)"
   ]
  },
  {
   "cell_type": "code",
   "execution_count": 3,
   "metadata": {},
   "outputs": [],
   "source": [
    "\n",
    "class AlphaCounter(threading.Thread):\n",
    "    def __init__(self, character, filename):\n",
    "        super().__init__()\n",
    "        self.character = character\n",
    "        self.filename = filename\n",
    "        self.count = 0\n",
    "\n",
    "    def run(self):\n",
    "        try:\n",
    "            with open(self.filename, 'r') as file:\n",
    "                for line in file:\n",
    "                    self.count += line.lower().count(self.character)\n",
    "            print(f\"Thread for '{self.character}': Count = {self.count}\")\n",
    "        except FileNotFoundError:\n",
    "            print(f\"Error: File '{self.filename}' not found\")"
   ]
  },
  {
   "cell_type": "markdown",
   "metadata": {},
   "source": [
    "4. Now we will first create 26 threads in our system, and then run each thread for one alphabet, to count their individual occurence."
   ]
  },
  {
   "cell_type": "code",
   "execution_count": null,
   "metadata": {},
   "outputs": [
    {
     "name": "stdout",
     "output_type": "stream",
     "text": [
      "Thread for 'a': Count = 2\n",
      "Thread for 'f': Count = 1\n",
      "Thread for 'e': Count = 2\n",
      "Thread for 'g': Count = 1\n",
      "Thread for 'd': Count = 1\n",
      "Thread for 'c': Count = 1\n",
      "Thread for 'i': Count = 1\n",
      "Thread for 'm': Count = 1\n",
      "Thread for 'k': Count = 1\n",
      "Thread for 'j': Count = 1\n",
      "Thread for 'l': Count = 1\n",
      "Thread for 'b': Count = 1\n",
      "Thread for 'h': Count = 1\n",
      "Thread for 'n': Count = 1\n",
      "Thread for 'o': Count = 4\n",
      "Thread for 'p': Count = 1\n",
      "Thread for 'q': Count = 1\n",
      "Thread for 'r': Count = 2\n",
      "Thread for 's': Count = 1\n",
      "Thread for 't': Count = 1\n",
      "Thread for 'u': Count = 2\n",
      "Thread for 'v': Count = 1\n",
      "Thread for 'w': Count = 1\n",
      "Thread for 'x': Count = 1\n",
      "Thread for 'z': Count = 1\n",
      "Thread for 'y': Count = 1\n"
     ]
    }
   ],
   "source": [
    "filename = \"input.txt\"\n",
    "threads = []\n",
    "total_count = 0\n",
    "for i in range(NumAlpha):\n",
    "    character = chr(ord('a') + i)  \n",
    "    thread = AlphaCounter(character, filename)\n",
    "    threads.append(thread)\n",
    "    thread.start()"
   ]
  },
  {
   "cell_type": "markdown",
   "metadata": {},
   "source": [
    "5. Finally, we will join all threads together with main (Parent) thread, which will add all counts and give the total count."
   ]
  },
  {
   "cell_type": "code",
   "execution_count": 6,
   "metadata": {},
   "outputs": [
    {
     "name": "stdout",
     "output_type": "stream",
     "text": [
      "Total alphabet count: 33\n"
     ]
    }
   ],
   "source": [
    "for thread in threads:\n",
    "    thread.join()\n",
    "    total_count += thread.count\n",
    "print(f\"Total alphabet count: {total_count}\")"
   ]
  }
 ],
 "metadata": {
  "kernelspec": {
   "display_name": "Python 3",
   "language": "python",
   "name": "python3"
  },
  "language_info": {
   "codemirror_mode": {
    "name": "ipython",
    "version": 3
   },
   "file_extension": ".py",
   "mimetype": "text/x-python",
   "name": "python",
   "nbconvert_exporter": "python",
   "pygments_lexer": "ipython3",
   "version": "3.12.4"
  }
 },
 "nbformat": 4,
 "nbformat_minor": 2
}
